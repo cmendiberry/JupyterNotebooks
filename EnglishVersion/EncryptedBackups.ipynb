{
    "metadata": {
        "kernelspec": {
            "name": "SQL",
            "display_name": "SQL",
            "language": "sql"
        },
        "language_info": {
            "name": "sql",
            "version": ""
        }
    },
    "nbformat_minor": 2,
    "nbformat": 4,
    "cells": [
        {
            "cell_type": "markdown",
            "source": [
                "# Encrypted DataBase Backups in SQL Server\n",
                "\n",
                "## Master Key\n",
                "\n",
                "In order to encrypt data bases backups, it's necesary to create a Maste rKey, this Master Key is in charge of protection of all the certificates we need to create.\n",
                "\n",
                "Creating a MasterKey:"
            ],
            "metadata": {
                "azdata_cell_guid": "3bfa3e61-ce81-4d03-8e90-795ef2ab9d97"
            }
        },
        {
            "cell_type": "code",
            "source": [
                "USE master \r\n",
                "GO \r\n",
                "CREATE MASTER KEY ENCRYPTION BY PASSWORD = 'Master Key Password'\r\n",
                ""
            ],
            "metadata": {
                "azdata_cell_guid": "59e0cae4-4de6-4d2f-8ae3-f24cc7f765e5"
            },
            "outputs": [],
            "execution_count": null
        },
        {
            "cell_type": "markdown",
            "source": [
                "## Certificate\n",
                "\n",
                "It's possible to have as many certificates as you want/need, the more you have, the safer will be your backup strategy. You can use one certificate to encrypt all your databases backups, or you can create one for each database.\n",
                "\n",
                "I'll create two certificates to encrypt three databases backups, so, one of them will be used twice.  \n",
                "\n",
                "If you don't assign an expire date, sql server assumes that it's valid for one year."
            ],
            "metadata": {
                "azdata_cell_guid": "147fcbcb-e309-4eaf-91a5-e3feff968f07"
            }
        },
        {
            "cell_type": "code",
            "source": [
                "Use Master \r\n",
                "GO\r\n",
                "\r\n",
                "CREATE CERTIFICATE CertificateBaK1\r\n",
                "WITH SUBJECT = 'Backups Certificate'\r\n",
                ",EXPIRY_DATE = '20201031'; \r\n",
                "\r\n",
                "CREATE CERTIFICATE CertificadoBK2 \r\n",
                "WITH SUBJECT = 'Backup Certificate 2'\r\n",
                ",EXPIRY_DATE = '20211006'; \r\n",
                ""
            ],
            "metadata": {
                "azdata_cell_guid": "6384fed2-91e9-4e14-a2d1-1bd0b8e0b40b"
            },
            "outputs": [],
            "execution_count": null
        },
        {
            "cell_type": "markdown",
            "source": [
                "## Certificates' Backups\n",
                "\n",
                "Unless you have the .cer and .pvk files, you wan't be able to restore an encrypted backup in a Sql Server Instance different from the one that holds the certificate.\n",
                "\n",
                "The Master Key and Certificates passwords, should't be the same, but this is up to you.\n",
                "\n",
                "Last but mot minor point, you must make sure that the sql server agent has access to the foldes that contains the .cer and .pvk files."
            ],
            "metadata": {
                "azdata_cell_guid": "ed1c3089-c273-4c9d-bcaf-f4b60022803d"
            }
        },
        {
            "cell_type": "code",
            "source": [
                "USE master \r\n",
                "GO \r\n",
                "BACKUP CERTIFICATE CertificadteBak  \r\n",
                "TO FILE = 'Path\\BKPCertificateBak.cer' \r\n",
                "WITH PRIVATE KEY (FILE = 'Path\\Backup_Key.pvk' , \r\n",
                "ENCRYPTION BY PASSWORD = 'Certificate1 Password')\r\n",
                "GO \r\n",
                "\r\n",
                "USE master \r\n",
                "GO \r\n",
                "BACKUP CERTIFICATE CertificateBak2\r\n",
                "TO FILE = 'Path\\BKPCertificateBak2.cer' \r\n",
                "WITH PRIVATE KEY (FILE = 'Path\\Backup_Key2.pvk' , \r\n",
                "ENCRYPTION BY PASSWORD = 'Certificate 2 Password')\r\n",
                "GO "
            ],
            "metadata": {
                "azdata_cell_guid": "2f6e9ec6-a0f0-4523-afe3-66c86b2e95b4"
            },
            "outputs": [],
            "execution_count": null
        },
        {
            "cell_type": "markdown",
            "source": [
                "## Backups Encrypted\n",
                "\n",
                "It's time! Let's make an encrypted backup. There are several encryption algorithms but the most recommended is AES\\_256."
            ],
            "metadata": {
                "azdata_cell_guid": "95c12881-f177-4210-aeb4-53eb304c1fb4"
            }
        },
        {
            "cell_type": "code",
            "source": [
                "BACKUP DATABASE DB1\r\n",
                "TO DISK = N'BackupPath\\DB1Encrypt.bak' \r\n",
                " WITH \r\n",
                " INIT,\r\n",
                " ENCRYPTION \r\n",
                " ( \r\n",
                " ALGORITHM = AES_256, \r\n",
                " SERVER CERTIFICATE = CertificateBak \r\n",
                " ), \r\n",
                " COMPRESSION,\r\n",
                " FORMAT,\r\n",
                " STATS = 10 \r\n",
                " GO\r\n",
                "\r\n",
                "BACKUP DATABASE DB2\r\n",
                "TO DISK = N'BackupPath\\DB2Encrypt.bak' \r\n",
                " WITH \r\n",
                " INIT,\r\n",
                " ENCRYPTION \r\n",
                " ( \r\n",
                " ALGORITHM = AES_256, \r\n",
                " SERVER CERTIFICATE = CertificateBak2 \r\n",
                " ), \r\n",
                " COMPRESSION,\r\n",
                " FORMAT,\r\n",
                " STATS = 10 \r\n",
                " GO\r\n",
                "\r\n",
                "BACKUP DATABASE DB3\r\n",
                "TO DISK = N'BackupPath\\DB3Encrypt.bak' \r\n",
                " WITH \r\n",
                " INIT,\r\n",
                " ENCRYPTION \r\n",
                " ( \r\n",
                " ALGORITHM = AES_256, \r\n",
                " SERVER CERTIFICATE = CertificateBak \r\n",
                " ), \r\n",
                " COMPRESSION,\r\n",
                " FORMAT,\r\n",
                " STATS = 10 \r\n",
                " GO"
            ],
            "metadata": {
                "azdata_cell_guid": "4c6fcfca-aca7-4fbd-9afc-ed396604889b"
            },
            "outputs": [],
            "execution_count": null
        },
        {
            "cell_type": "markdown",
            "source": [
                "The fact that you have made an encrypted backup, doesn't mean you can't make a regular backup to this database:"
            ],
            "metadata": {
                "azdata_cell_guid": "8360f6b4-174c-4dc3-8eb2-f645a29ba95c"
            }
        },
        {
            "cell_type": "code",
            "source": [
                "BACKUP DATABASE DB1\r\n",
                "TO DISK = N'BackupPath\\BD1_Regular.bak' \r\n",
                " WITH \r\n",
                " INIT,\r\n",
                " FORMAT,\r\n",
                " COMPRESSION,\r\n",
                " STATS = 10 \r\n",
                " GO"
            ],
            "metadata": {
                "azdata_cell_guid": "eb1fdfed-01f6-46c0-928f-731392cead23"
            },
            "outputs": [],
            "execution_count": null
        },
        {
            "cell_type": "markdown",
            "source": [
                "## Certificates in target SQL Server instance\n",
                "\n",
                "Restoring a database wich backup is encryppted, requires to create the certificate used by this backup in the intance. In order to create it, it is necessary to create a Master Key, in case it doesn't exists already, in the target instance. Then you' ll be able to create the certificate used by the backup, from it's files. \n",
                "\n",
                "The Master Key password for that second instance doesn't have to be the same than the one you used in the source instance."
            ],
            "metadata": {
                "azdata_cell_guid": "ae9a4577-4cef-4336-a60a-dcd40416a116"
            }
        },
        {
            "cell_type": "code",
            "source": [
                "USE master \r\n",
                "GO \r\n",
                "CREATE MASTER KEY ENCRYPTION BY PASSWORD = 'Master Key Password2'\r\n",
                "\r\n",
                " CREATE CERTIFICATE CertificateBak \r\n",
                " FROM FILE = 'TargetPath\\CertificateBak.cer'\r\n",
                " WITH PRIVATE KEY (FILE = 'TargetPath\\Backup_Key.pvk',  \r\n",
                " DECRYPTION BY PASSWORD = 'Certificate1 Password'); \r\n",
                " GO  "
            ],
            "metadata": {
                "azdata_cell_guid": "4ead62d5-0f84-4ddf-9896-ec2d30d332e9"
            },
            "outputs": [],
            "execution_count": null
        },
        {
            "cell_type": "markdown",
            "source": [
                "## DataBase Restore\n",
                "\n",
                "Now, you can restore the database as you ussually do, either using t-sql or with the wizard ssms."
            ],
            "metadata": {
                "azdata_cell_guid": "4ee18875-b92b-44db-9bab-edb2d1b8a6a7"
            }
        },
        {
            "cell_type": "markdown",
            "source": [
                "## Cleanning\n",
                "\n",
                "Once you finish, you can drop the certificate so it can't be use to make an other restore or backup. If need it, you can create it again."
            ],
            "metadata": {
                "azdata_cell_guid": "e5da69b7-6445-4264-bf1d-2cdce33ecc2a"
            }
        },
        {
            "cell_type": "code",
            "source": [
                "DROP CERTIFICATE CertificateBak"
            ],
            "metadata": {
                "azdata_cell_guid": "be7f3817-526c-4a3a-a550-1808942e4174"
            },
            "outputs": [],
            "execution_count": null
        },
        {
            "cell_type": "markdown",
            "source": [
                "# Expyred Certificate\n",
                "\n",
                "Don't worry, you drop it and create it again with a new expiration date. Of course, you can anticipate it by running a task that check this for you by using the  **sys.certificates** catalog view."
            ],
            "metadata": {
                "azdata_cell_guid": "29f2144b-3e7c-4734-9d69-95fab87e838b"
            }
        },
        {
            "cell_type": "markdown",
            "source": [
                "# Good Practices\n",
                "\n",
                "Keep the certificates' bakups outside the server, as you do with you databases backups.\n",
                "\n",
                "Do not use the same password neither for different Master Key nor for diferent certificates."
            ],
            "metadata": {
                "azdata_cell_guid": "0ee056eb-e10d-4fe8-8141-6c3c67d25900"
            }
        }
    ]
}