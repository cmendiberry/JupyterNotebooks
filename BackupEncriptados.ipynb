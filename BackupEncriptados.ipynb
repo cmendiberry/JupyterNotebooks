{
    "cells": [
        {
            "cell_type": "markdown",
            "metadata": {
                "azdata_cell_guid": "3bfa3e61-ce81-4d03-8e90-795ef2ab9d97"
            },
            "source": [
                "# Encrypted DataBase Backups in SQL Server\n",
                "\n",
                "## Master Key\n",
                "\n",
                "Para comenzar a trabajar con encriptación de bases de datos, va a ser necesario crear una master key, esta permitirá proteger los certificados que vayamos a utilizar luego, para la realización de backups.\n",
                "\n",
                "Creación de la MasterKey:"
            ]
        },
        {
            "cell_type": "code",
            "execution_count": null,
            "metadata": {
                "azdata_cell_guid": "59e0cae4-4de6-4d2f-8ae3-f24cc7f765e5"
            },
            "outputs": [],
            "source": [
                "USE master \n",
                "GO \n",
                "CREATE MASTER KEY ENCRYPTION BY PASSWORD = 'Password para la Master Key'\n"
            ]
        },
        {
            "cell_type": "markdown",
            "metadata": {
                "azdata_cell_guid": "147fcbcb-e309-4eaf-91a5-e3feff968f07"
            },
            "source": [
                "## Certificado\n",
                "\n",
                "Es posible tener tantos como se deseé, esto añadirá un nivel de seguridad más, pero también es posible utilizar el mismo para los backups de todas las bases de datos de la instancia.\n",
                "\n",
                "Para el ejemplo se crearán 2 certificados, se usará uno para el backup de dos bases de datos y el otro para una tercera base. \n",
                "\n",
                "Si no se le da una fecha de vencimiento, asume que tiene un año de vigencia desde el momento de la fecha de creación."
            ]
        },
        {
            "cell_type": "code",
            "execution_count": null,
            "metadata": {
                "azdata_cell_guid": "6384fed2-91e9-4e14-a2d1-1bd0b8e0b40b"
            },
            "outputs": [],
            "source": [
                "Use Master \n",
                "GO\n",
                "\n",
                "CREATE CERTIFICATE CertificadoBaK1\n",
                "WITH SUBJECT = 'Certificado para Backups'\n",
                ",EXPIRY_DATE = '20201130'; \n",
                "\n",
                "CREATE CERTIFICATE CertificadoBK2 \n",
                "WITH SUBJECT = 'Certificado para Backups2'\n",
                ",EXPIRY_DATE = '20211006'; \n"
            ]
        },
        {
            "cell_type": "markdown",
            "metadata": {
                "azdata_cell_guid": "ed1c3089-c273-4c9d-bcaf-f4b60022803d"
            },
            "source": [
                "## Backup de los certificados\n",
                "\n",
                "Esto permitirá hacer la restauración de la base de datos en una instancia que no sea la original. \n",
                "\n",
                "Las contraseñas pueden ser tan complejas como se crea necesario, así como es posible usar un único certificado para realizar el backup a todas las bases de la instancia, también es posible mantener la misma contraseña tanto para la _master  key_ como para el o los _certificados_. Por supuesto, _esto último no se recomienda._\n",
                "\n",
                "Un último punto a tener en cuenta es que el agente tenga permisos sobre la carpeta que contendrá los archivos .cer y .pvk"
            ]
        },
        {
            "cell_type": "code",
            "execution_count": null,
            "metadata": {
                "azdata_cell_guid": "2f6e9ec6-a0f0-4523-afe3-66c86b2e95b4"
            },
            "outputs": [],
            "source": [
                "USE master \n",
                "GO \n",
                "BACKUP CERTIFICATE CertificadoBak  \n",
                "TO FILE = 'Ruta\\BKPCertificadoBak.cer' \n",
                "WITH PRIVATE KEY (FILE = 'Ruta\\Backup_Key.pvk' , \n",
                "ENCRYPTION BY PASSWORD = 'Password para el certificado')\n",
                "GO \n",
                "\n",
                "USE master \n",
                "GO \n",
                "BACKUP CERTIFICATE CertificadoBak2\n",
                "TO FILE = 'Ruta\\BKPCertificadoBak2.cer' \n",
                "WITH PRIVATE KEY (FILE = 'Ruta\\Backup_Key2.pvk' , \n",
                "ENCRYPTION BY PASSWORD = 'Password para el certificado 2')\n",
                "GO "
            ]
        },
        {
            "cell_type": "markdown",
            "metadata": {
                "azdata_cell_guid": "95c12881-f177-4210-aeb4-53eb304c1fb4"
            },
            "source": [
                "## Backups Encriptados de Bases de Datos\n",
                "\n",
                "Ahora sí llegamos al primer punto interesante. Realizar una copia de seguridad encriptada. Algoritmos de encriptación, hay varios, pero el más recomendado es el AES\\_256."
            ]
        },
        {
            "cell_type": "code",
            "execution_count": null,
            "metadata": {
                "azdata_cell_guid": "4c6fcfca-aca7-4fbd-9afc-ed396604889b"
            },
            "outputs": [],
            "source": [
                "BACKUP DATABASE BD1\n",
                "TO DISK = N'RutaBackups\\BD1Encrypt.bak' \n",
                " WITH \n",
                " INIT,\n",
                " ENCRYPTION \n",
                " ( \n",
                " ALGORITHM = AES_256, \n",
                " SERVER CERTIFICATE = CertificadoBak \n",
                " ), \n",
                " COMPRESSION,\n",
                " FORMAT,\n",
                " STATS = 10 \n",
                " GO\n",
                "\n",
                "BACKUP DATABASE BD2\n",
                "TO DISK = N'RutaBackups\\BD2Encrypt.bak' \n",
                " WITH \n",
                " INIT,\n",
                " ENCRYPTION \n",
                " ( \n",
                " ALGORITHM = AES_256, \n",
                " SERVER CERTIFICATE = CertificadoBak2 \n",
                " ), \n",
                " COMPRESSION,\n",
                " FORMAT,\n",
                " STATS = 10 \n",
                " GO\n",
                "\n",
                "BACKUP DATABASE BD3\n",
                "TO DISK = N'RutaBackups\\BD3Encrypt.bak' \n",
                " WITH \n",
                " INIT,\n",
                " ENCRYPTION \n",
                " ( \n",
                " ALGORITHM = AES_256, \n",
                " SERVER CERTIFICATE = CertificadoBak \n",
                " ), \n",
                " COMPRESSION,\n",
                " FORMAT,\n",
                " STATS = 10 \n",
                " GO"
            ]
        },
        {
            "cell_type": "markdown",
            "metadata": {
                "azdata_cell_guid": "8360f6b4-174c-4dc3-8eb2-f645a29ba95c"
            },
            "source": [
                " El hecho de hacer un backup encriptado, no significa que no es posible hacer un backup sin encriptar:"
            ]
        },
        {
            "cell_type": "code",
            "execution_count": null,
            "metadata": {
                "azdata_cell_guid": "eb1fdfed-01f6-46c0-928f-731392cead23"
            },
            "outputs": [],
            "source": [
                "BACKUP DATABASE BD1\n",
                "TO DISK = N'RutaBackups\\BD1_SINEncrip.bak' \n",
                " WITH \n",
                " INIT,\n",
                " FORMAT,\n",
                " COMPRESSION,\n",
                " STATS = 10 \n",
                " GO"
            ]
        },
        {
            "cell_type": "markdown",
            "metadata": {
                "azdata_cell_guid": "ae9a4577-4cef-4336-a60a-dcd40416a116"
            },
            "source": [
                "## Certificados en destino\n",
                "\n",
                "Restuarar una base cuyo archivo de backup está encriptado, requiere que se creé una Master Key en la instancia destino que pueda manipular los Certificados que trae el bak. Si se intenta hacer la restauración sin antes crear los certificados, se abrirá una ventana indicando el error. (Pueden hacer la prueba)\n",
                "\n",
                "Por lo tanto, primero, se crea una MasterKey (no debe tener la misma contraseña que en la otra instancia), como se indicó en el primer paso, luego, se crea el certificado correspondiente a la base de datos que se va a restaurar, pero esta vez, utilizando el archivo de backup del certificado de la instancia origen. Llevar los archivos .cer y .pkb  a la instancia destino:"
            ]
        },
        {
            "cell_type": "code",
            "execution_count": null,
            "metadata": {
                "azdata_cell_guid": "4ead62d5-0f84-4ddf-9896-ec2d30d332e9"
            },
            "outputs": [],
            "source": [
                "USE master \n",
                "GO \n",
                "CREATE MASTER KEY ENCRYPTION BY PASSWORD = 'Password para la masterKey de esta otr instancia'\n",
                "\n",
                " CREATE CERTIFICATE CertificadoBak \n",
                " FROM FILE = 'RutaCertificadoENDestino\\CertificadoBak.cer'\n",
                " WITH PRIVATE KEY (FILE = 'RutaKeyENDestino\\Backup_Key.pvk',  \n",
                " DECRYPTION BY PASSWORD = 'Password para el certificado'); \n",
                " GO  "
            ]
        },
        {
            "cell_type": "markdown",
            "metadata": {
                "azdata_cell_guid": "4ee18875-b92b-44db-9bab-edb2d1b8a6a7"
            },
            "source": [
                "## Restauración De la Base de Datos\n",
                "\n",
                "Ahora se puede proceder a restaurar las base de datos como siempre."
            ]
        },
        {
            "cell_type": "markdown",
            "metadata": {
                "azdata_cell_guid": "e5da69b7-6445-4264-bf1d-2cdce33ecc2a"
            },
            "source": [
                "## Limpieza\n",
                "\n",
                "Una vez que terminadas las tareas que requerían del certificado, se elimina de manera que no pueda volver a hacer un restore de otra copia encriptada que utilice ese certificado ni ser usado para realizar un backup con el mismo si no corresponde."
            ]
        },
        {
            "cell_type": "code",
            "execution_count": null,
            "metadata": {
                "azdata_cell_guid": "be7f3817-526c-4a3a-a550-1808942e4174"
            },
            "outputs": [],
            "source": [
                "DROP CERTIFICATE CertificadoBak"
            ]
        },
        {
            "cell_type": "markdown",
            "metadata": {
                "azdata_cell_guid": "e07e4d3f-2d9a-4396-8821-382438cd008b"
            },
            "source": [
                "# Certificado Expirado\n",
                "\n",
                "No hay problema, se elimina y se crea nuevamente con una nueva fecha. Por supuesto, se puede ser previsor y tener una tarea que realice ésto (para ello hacer uso de la vista dinámica **sys.certificates**) sin tener que estar revisado una agenda :)."
            ]
        },
        {
            "cell_type": "markdown",
            "metadata": {
                "azdata_cell_guid": "4bf8d053-f396-42a5-9821-15cadb3362c0"
            },
            "source": [
                "# Buenas Prácticas\n",
                "\n",
                "Mantener los backups de los certificados fuera de la instancia, como se hace con los backups de las bases de datos.\n",
                "\n",
                "No usar la misma contraseña para las Master Key de distintas instancias, ni para los certificados."
            ]
        },
        {
            "cell_type": "markdown",
            "metadata": {},
            "source": [
                "# Nota\n",
                "Esta notebook fue realizada con la versio MSSQL Server 2017"
            ]
        }
    ],
    "metadata": {
        "kernelspec": {
            "display_name": "SQL",
            "language": "sql",
            "name": "SQL"
        },
        "language_info": {
            "name": "sql",
            "version": ""
        }
    },
    "nbformat": 4,
    "nbformat_minor": 2
}
